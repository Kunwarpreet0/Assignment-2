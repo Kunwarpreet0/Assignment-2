{
 "cells": [
  {
   "cell_type": "code",
   "execution_count": 1,
   "metadata": {},
   "outputs": [
    {
     "name": "stdout",
     "output_type": "stream",
     "text": [
      "Accuracy: 0.956140350877193\n",
      "Precision: 0.975\n",
      "Recall: 0.9069767441860465\n",
      "F1-Score: 0.9397590361445783\n",
      "Predicted Diagnosis: ['B']\n"
     ]
    },
    {
     "name": "stderr",
     "output_type": "stream",
     "text": [
      "c:\\ProgramData\\Anaconda3\\lib\\site-packages\\sklearn\\linear_model\\_logistic.py:814: ConvergenceWarning: lbfgs failed to converge (status=1):\n",
      "STOP: TOTAL NO. of ITERATIONS REACHED LIMIT.\n",
      "\n",
      "Increase the number of iterations (max_iter) or scale the data as shown in:\n",
      "    https://scikit-learn.org/stable/modules/preprocessing.html\n",
      "Please also refer to the documentation for alternative solver options:\n",
      "    https://scikit-learn.org/stable/modules/linear_model.html#logistic-regression\n",
      "  n_iter_i = _check_optimize_result(\n",
      "c:\\ProgramData\\Anaconda3\\lib\\site-packages\\sklearn\\base.py:450: UserWarning: X does not have valid feature names, but LogisticRegression was fitted with feature names\n",
      "  warnings.warn(\n"
     ]
    }
   ],
   "source": [
    "import pandas as pd\n",
    "from sklearn.model_selection import train_test_split\n",
    "from sklearn.linear_model import LogisticRegression\n",
    "from sklearn.metrics import accuracy_score, precision_score, recall_score, f1_score\n",
    "\n",
    " \n",
    "\n",
    "# Step 1: Load and Preprocess the Data\n",
    "data_url = \"https://archive.ics.uci.edu/ml/machine-learning-databases/breast-cancer-wisconsin/wdbc.data\"\n",
    "column_names = [\"ID\", \"Diagnosis\", \"Mean Radius\", \"Mean Texture\", \"Mean Perimeter\", \"Mean Area\",\n",
    "                \"Mean Smoothness\", \"Mean Compactness\", \"Mean Concavity\", \"Mean Concave Points\",\n",
    "                \"Mean Symmetry\", \"Mean Fractal Dimension\", \"SE Radius\", \"SE Texture\", \"SE Perimeter\",\n",
    "                \"SE Area\", \"SE Smoothness\", \"SE Compactness\", \"SE Concavity\", \"SE Concave Points\",\n",
    "                \"SE Symmetry\", \"SE Fractal Dimension\", \"Largest Radius\", \"Largest Texture\",\n",
    "                \"Largest Perimeter\", \"Largest Area\", \"Largest Smoothness\", \"Largest Compactness\",\n",
    "                \"Largest Concavity\", \"Largest Concave Points\", \"Largest Symmetry\", \"Largest Fractal Dimension\"]\n",
    "\n",
    " \n",
    "\n",
    "df = pd.read_csv(data_url, header=None, names=column_names)\n",
    "\n",
    " \n",
    "\n",
    "# Drop unnecessary columns\n",
    "df = df.drop(\"ID\", axis=1)\n",
    "\n",
    " \n",
    "\n",
    "# Split the dataset into features (X) and target (y)\n",
    "X = df.drop(\"Diagnosis\", axis=1)\n",
    "y = df[\"Diagnosis\"]\n",
    "\n",
    " \n",
    "\n",
    "# Step 2: Split the Data into Training and Testing Sets\n",
    "X_train, X_test, y_train, y_test = train_test_split(X, y, test_size=0.2, random_state=42)\n",
    "\n",
    " \n",
    "\n",
    "# Step 3: Define the Model\n",
    "model = LogisticRegression()\n",
    "\n",
    " \n",
    "\n",
    "# Step 4: Train the Model\n",
    "model.fit(X_train, y_train)\n",
    "\n",
    " \n",
    "\n",
    "# Step 5: Evaluate the Model\n",
    "y_pred = model.predict(X_test)\n",
    "accuracy = accuracy_score(y_test, y_pred)\n",
    "precision = precision_score(y_test, y_pred, pos_label=\"M\")\n",
    "recall = recall_score(y_test, y_pred, pos_label=\"M\")\n",
    "f1 = f1_score(y_test, y_pred, pos_label=\"M\")\n",
    "\n",
    " \n",
    "\n",
    "print(\"Accuracy:\", accuracy)\n",
    "print(\"Precision:\", precision)\n",
    "print(\"Recall:\", recall)\n",
    "print(\"F1-Score:\", f1)\n",
    "\n",
    "# Step 7: Make Predictions\n",
    "new_data = [[14.26, 19.65, 97.83, 629.9, 0.07837, 0.2233, 0.3003, 0.07798, 0.1704, 0.07769,\n",
    "             0.2998, 0.9413, 1.752, 22.15, 0.004407, 0.02675, 0.03119, 0.007259, 0.01482,\n",
    "             0.003528, 15.3, 23.73, 107.0, 709.0, 0.08949, 0.4193, 0.6783, 0.1505, 0.2398,\n",
    "             0.1082]]\n",
    "prediction = model.predict(new_data)\n",
    "print(\"Predicted Diagnosis:\", prediction)"
   ]
  },
  {
   "cell_type": "code",
   "execution_count": null,
   "metadata": {},
   "outputs": [],
   "source": []
  }
 ],
 "metadata": {
  "kernelspec": {
   "display_name": "base",
   "language": "python",
   "name": "python3"
  },
  "language_info": {
   "codemirror_mode": {
    "name": "ipython",
    "version": 3
   },
   "file_extension": ".py",
   "mimetype": "text/x-python",
   "name": "python",
   "nbconvert_exporter": "python",
   "pygments_lexer": "ipython3",
   "version": "3.9.13"
  },
  "orig_nbformat": 4
 },
 "nbformat": 4,
 "nbformat_minor": 2
}
